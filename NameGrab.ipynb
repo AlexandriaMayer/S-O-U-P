{
 "cells": [
  {
   "cell_type": "code",
   "execution_count": null,
   "metadata": {},
   "outputs": [],
   "source": [
    "import pandas as pd\n",
    "import random\n",
    "import math\n",
    "import numpy as np"
   ]
  },
  {
   "cell_type": "markdown",
   "metadata": {},
   "source": [
    "To start, I want to proof of concept, creating a dataframe with a list of names and a decimal number expressing the percentage change of drawing the name.\n",
    "edit: okay maybe I should figure out the web scraping first."
   ]
  },
  {
   "cell_type": "code",
   "execution_count": 2,
   "metadata": {},
   "outputs": [],
   "source": [
    "df_reference = [['Chloe', 0.1], ['Kelsey', 0.05], ['Rebecca', 0.1], ['Zoe', 0.01], ['Taylor', 0.1], ['Jamie', 0.05], ['Julie', 0.1], ['Holly', 0.01], ['Wendy', 0.05], ['Jenny', 0.2]]"
   ]
  },
  {
   "cell_type": "markdown",
   "metadata": {},
   "source": [
    "Getting ahead of myself. Need to have the code that will create the dataframe that will be populated with the randomly drawn names."
   ]
  },
  {
   "cell_type": "code",
   "execution_count": null,
   "metadata": {},
   "outputs": [],
   "source": []
  }
 ],
 "metadata": {
  "kernelspec": {
   "display_name": "Python 3",
   "language": "python",
   "name": "python3"
  },
  "language_info": {
   "name": "python",
   "version": "3.10.13"
  }
 },
 "nbformat": 4,
 "nbformat_minor": 2
}
